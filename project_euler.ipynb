{
 "cells": [
  {
   "cell_type": "code",
   "execution_count": 1,
   "metadata": {},
   "outputs": [
    {
     "data": {
      "text/plain": [
       "233168"
      ]
     },
     "execution_count": 1,
     "metadata": {},
     "output_type": "execute_result"
    }
   ],
   "source": [
    "sm = 0\n",
    "for i in range(1000):\n",
    "    if i % 3 == 0:\n",
    "        sm += i\n",
    "        continue\n",
    "    if i % 5 == 0:\n",
    "        sm += i\n",
    "sm"
   ]
  },
  {
   "cell_type": "code",
   "execution_count": 2,
   "metadata": {},
   "outputs": [
    {
     "data": {
      "text/plain": [
       "4613732"
      ]
     },
     "execution_count": 2,
     "metadata": {},
     "output_type": "execute_result"
    }
   ],
   "source": [
    "f1 = 1\n",
    "f2 = 2\n",
    "sm = 2\n",
    "limit = 4000000\n",
    "while True:\n",
    "    f1 = f1 + f2\n",
    "    if f1 > limit:\n",
    "        break\n",
    "    if f1 % 2 == 0:\n",
    "        sm += f1\n",
    "        \n",
    "    f2 = f2 + f1\n",
    "    if f2 > limit:\n",
    "        break\n",
    "    if f2 % 2 == 0:\n",
    "        sm += f2\n",
    "sm        "
   ]
  },
  {
   "cell_type": "code",
   "execution_count": 3,
   "metadata": {},
   "outputs": [
    {
     "data": {
      "text/plain": [
       "6857"
      ]
     },
     "execution_count": 3,
     "metadata": {},
     "output_type": "execute_result"
    }
   ],
   "source": [
    "n = 600851475143\n",
    "prime_list = []\n",
    "# chack all numbers if prime\n",
    "for new in range(2, n):\n",
    "    maybe_prime = True\n",
    "    for p in prime_list:\n",
    "        if new % p == 0:\n",
    "            maybe_prime = False\n",
    "            break\n",
    "    if maybe_prime:        \n",
    "        prime_list.append(new)\n",
    "        # divide n by the new prime number as many times it goes\n",
    "        while n % new == 0:\n",
    "            n = n / new\n",
    "    if n == 1:\n",
    "        break\n",
    "new "
   ]
  },
  {
   "cell_type": "code",
   "execution_count": 4,
   "metadata": {},
   "outputs": [
    {
     "name": "stdout",
     "output_type": "stream",
     "text": [
      "999 x 91 = 90909\n"
     ]
    }
   ],
   "source": [
    "digit = 3\n",
    "for n1 in range(10 ** digit, 0, -1):\n",
    "    for n2 in range(10 ** digit, 0, -1):\n",
    "        product = str(n1 * n2)\n",
    "        if product == product[::-1]:\n",
    "            break\n",
    "    if product == product[::-1]: \n",
    "        print(f'{n1} x {n2} = {product}')\n",
    "        break"
   ]
  },
  {
   "cell_type": "code",
   "execution_count": 5,
   "metadata": {},
   "outputs": [
    {
     "data": {
      "text/plain": [
       "232792560"
      ]
     },
     "execution_count": 5,
     "metadata": {},
     "output_type": "execute_result"
    }
   ],
   "source": [
    "\n",
    "prime_list = []\n",
    "# chack all numbers if prime\n",
    "for n in range(2, 20):\n",
    "    maybe_prime = True\n",
    "    # try to divide it by all the prime numbers untill this one\n",
    "    for p in prime_list:\n",
    "        if n % p == 0:\n",
    "            maybe_prime = False\n",
    "            break\n",
    "    if maybe_prime:        \n",
    "        prime_list.append(n)\n",
    "# dict to get the max of each prime number         \n",
    "prime_dict = {p: 0 for p in prime_list}\n",
    "# dict to get the least prime numbers that make each number\n",
    "num_dict = {}\n",
    "for num in range(2, 20):\n",
    "    num_dict[num] = []\n",
    "    for p in prime_list:\n",
    "        n = num\n",
    "        mx = prime_dict[p]\n",
    "        cnt = 0\n",
    "        # try to divide by each prime number as many times it goes and add them to the dict\n",
    "        while n % p == 0:\n",
    "            num_dict[num].append(p)\n",
    "            cnt += 1\n",
    "            if cnt > mx:\n",
    "                prime_dict[p] = cnt\n",
    "            n = n / p\n",
    "        if n == 1:\n",
    "            break\n",
    "sm = 1            \n",
    "for k, v in prime_dict.items():\n",
    "    sm *= k ** v\n",
    "sm    "
   ]
  },
  {
   "cell_type": "code",
   "execution_count": null,
   "metadata": {},
   "outputs": [],
   "source": []
  }
 ],
 "metadata": {
  "kernelspec": {
   "display_name": "dnenv 3",
   "language": "python",
   "name": "dnenv3"
  },
  "language_info": {
   "codemirror_mode": {
    "name": "ipython",
    "version": 3
   },
   "file_extension": ".py",
   "mimetype": "text/x-python",
   "name": "python",
   "nbconvert_exporter": "python",
   "pygments_lexer": "ipython3",
   "version": "3.6.8"
  }
 },
 "nbformat": 4,
 "nbformat_minor": 4
}
